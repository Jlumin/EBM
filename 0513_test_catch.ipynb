{
 "cells": [
  {
   "cell_type": "code",
   "execution_count": 142,
   "metadata": {},
   "outputs": [],
   "source": [
    "import serial\n",
    "import time\n",
    "import struct\n",
    "import binascii\n",
    "from ctypes import *\n",
    "import pandas as pd"
   ]
  },
  {
   "cell_type": "code",
   "execution_count": 144,
   "metadata": {},
   "outputs": [
    {
     "data": {
      "text/plain": [
       "'20200514 15:42:30'"
      ]
     },
     "execution_count": 144,
     "metadata": {},
     "output_type": "execute_result"
    }
   ],
   "source": []
  },
  {
   "cell_type": "code",
   "execution_count": 154,
   "metadata": {},
   "outputs": [
    {
     "name": "stdout",
     "output_type": "stream",
     "text": [
      "20200514 15:47:02\n",
      "20200514 15:47:03\n",
      "20200514 15:47:04\n",
      "20200514 15:47:05\n",
      "20200514 15:47:06\n",
      "20200514 15:47:07\n",
      "20200514 15:47:08\n",
      "20200514 15:47:09\n",
      "20200514 15:47:10\n",
      "20200514 15:47:11\n",
      "20200514 15:47:12\n",
      "20200514 15:47:13\n",
      "20200514 15:47:14\n",
      "20200514 15:47:15\n",
      "20200514 15:47:16\n",
      "20200514 15:47:17\n",
      "20200514 15:47:18\n",
      "20200514 15:47:19\n",
      "20200514 15:47:20\n",
      "20200514 15:47:21\n",
      "20200514 15:47:22\n",
      "20200514 15:47:23\n",
      "20200514 15:47:24\n",
      "20200514 15:47:25\n",
      "20200514 15:47:26\n",
      "20200514 15:47:27\n",
      "20200514 15:47:28\n",
      "20200514 15:47:29\n",
      "20200514 15:47:30\n",
      "20200514 15:47:31\n",
      "20200514 15:47:32\n",
      "20200514 15:47:33\n",
      "20200514 15:47:34\n",
      "20200514 15:47:35\n",
      "20200514 15:47:36\n",
      " -------Stop-------\n",
      "20200514 15:47:37\n"
     ]
    }
   ],
   "source": [
    "#讀取感測器資料v2\n",
    "#port = \"/dev/ttyS0\"    # Raspberry Pi 3\n",
    "port = \"COM1\"\n",
    "ser = serial.Serial(port, baudrate = 921600, timeout = 1)\n",
    "now = time.strftime(\"%Y%m%d%H%M\")\n",
    "saveFid = \"acc_read_{}.txt\".format(now)\n",
    "data = b''\n",
    "x=[]\n",
    "y=[]\n",
    "z=[]\n",
    "try:\n",
    "    while ser.isOpen:\n",
    "        print(time.strftime('%Y%m%d %H:%M:%S'))\n",
    "        with open(saveFid, \"ab+\") as file:\n",
    "            aa=ser.read(96000).hex().split('4154')\n",
    "            ff=[]\n",
    "            for i in range(len(aa)):\n",
    "                if len(aa[i]) == 3084:\n",
    "                    ff.append(aa[i][4:-8])\n",
    "\n",
    "                else:\n",
    "                    pass\n",
    "            tt=[]\n",
    "            for j in range(len(ff)):\n",
    "                n=8\n",
    "                tt.append([ff[j][i:i+n] for i in range(0, len(ff[j]), n)])\n",
    "            for i in range (len(tt)):\n",
    "                for j in range(len(tt[i])):\n",
    "                    if j % 3 == 0:\n",
    "                        data = struct.unpack_from('f',binascii.unhexlify(tt[i][j]))\n",
    "                        x.append(data[0])\n",
    "                    elif j % 3 == 1:\n",
    "                        data = struct.unpack_from('f',binascii.unhexlify(tt[i][j]))\n",
    "                        y.append(data[0])\n",
    "                    elif j % 3 == 2:\n",
    "                        data = struct.unpack_from('f',binascii.unhexlify(tt[i][j]))\n",
    "                        z.append(data[0])\n",
    "                    else:\n",
    "                        pass\n",
    "            \n",
    "            file.write('X:'+x)\n",
    "            file.write('Y:'+y)\n",
    "            file.write('Z:'+z)\n",
    "except KeyboardInterrupt:\n",
    "    print(\" -------Stop-------\")\n",
    "    ser.flushInput()\n",
    "    ser.close()\n",
    "    print(time.strftime('%Y%m%d %H:%M:%S'))\n",
    "    "
   ]
  },
  {
   "cell_type": "code",
   "execution_count": 155,
   "metadata": {},
   "outputs": [],
   "source": [
    "#處理二進位資料\n",
    "with open('acc_read_202005141547.txt','rb') as f:\n",
    "    hexdata = f.read()\n",
    "cc=hexdata\n",
    "ff=[]\n",
    "for i in range(len(cc)):\n",
    "    if len(cc[i]) == 3084:\n",
    "        ff.append(cc[i][4:-8])\n",
    "        \n",
    "    else:\n",
    "        pass\n",
    "tt=[]\n",
    "for j in range(len(ff)):\n",
    "    n=8\n",
    "    tt.append([ff[j][i:i+n] for i in range(0, len(ff[j]), n)])"
   ]
  },
  {
   "cell_type": "code",
   "execution_count": 156,
   "metadata": {},
   "outputs": [
    {
     "data": {
      "text/plain": [
       "0.69183349609375"
      ]
     },
     "execution_count": 156,
     "metadata": {},
     "output_type": "execute_result"
    }
   ],
   "source": [
    "#測試\n",
    "test_data=tt[0][5]\n",
    "test_data\n",
    "binary_string = binascii.unhexlify(test_data)\n",
    "y=struct.unpack_from('f',binary_string)\n",
    "y[0]"
   ]
  },
  {
   "cell_type": "code",
   "execution_count": 157,
   "metadata": {},
   "outputs": [],
   "source": [
    "#資料轉換\n",
    "x=[]\n",
    "y=[]\n",
    "z=[]\n",
    "for i in range (len(tt)):\n",
    "    for j in range(len(tt[i])):\n",
    "        if j % 3 == 0:\n",
    "            data = struct.unpack_from('f',binascii.unhexlify(tt[i][j]))\n",
    "            x.append(data[0])\n",
    "        elif j % 3 == 1:\n",
    "            data = struct.unpack_from('f',binascii.unhexlify(tt[i][j]))\n",
    "            y.append(data[0])\n",
    "        elif j % 3 == 2:\n",
    "            data = struct.unpack_from('f',binascii.unhexlify(tt[i][j]))\n",
    "            z.append(data[0])\n",
    "        else:\n",
    "            pass\n",
    "data_get = pd.DataFrame()\n",
    "data_get['x']=pd.Series(x)\n",
    "data_get['y']=pd.Series(y)\n",
    "data_get['z']=pd.Series(z)\n",
    "data_get.to_csv(str(now)+'.csv')"
   ]
  },
  {
   "cell_type": "code",
   "execution_count": null,
   "metadata": {},
   "outputs": [],
   "source": []
  }
 ],
 "metadata": {
  "kernelspec": {
   "display_name": "Python 3",
   "language": "python",
   "name": "python3"
  },
  "language_info": {
   "codemirror_mode": {
    "name": "ipython",
    "version": 3
   },
   "file_extension": ".py",
   "mimetype": "text/x-python",
   "name": "python",
   "nbconvert_exporter": "python",
   "pygments_lexer": "ipython3",
   "version": "3.7.3"
  }
 },
 "nbformat": 4,
 "nbformat_minor": 2
}
